{
 "cells": [
  {
   "cell_type": "markdown",
   "metadata": {},
   "source": [
    "# How does the self-esteem of people in a country change in realtion to cultural attributes such as power distance or collectivist mindsets?"
   ]
  },
  {
   "cell_type": "markdown",
   "metadata": {},
   "source": [
    "### A brief introduction"
   ]
  },
  {
   "cell_type": "markdown",
   "metadata": {},
   "source": [
    "The goal of the project is to carry out an end-to-end analysis of a dataset with the focus on statistical analysis and on the visualisation and presentation of results.  \n",
    "\n",
    "This project will analyse relationships between the self-esteem of a sample of people of a country (extrapolated form the sample offered in the dataset) and the dimensions of national culture power distance and individualism through statistical test and methods. \n",
    "\n",
    "The main hypothesis was based on the data retrieved from a questionnaire for the self-evaluation of an individual’s self-esteem, developed by Rosenberg in the 60s. The dataset used collected 47,974 answers in total and includes not only the overall score for each participant, but the age and nationality of each.\n",
    "\n",
    "As a secondary dataset, Hofstede’s cultural compass report was used. This report analyses 6 dimensions of national culture of different countries; power distance, individualism, masculinity, uncertainty avoidance, long-term orientation and indulgence. From here, I selected power distance and individualism as the most relevant dimensions for this project. \n",
    "\n",
    "\n",
    "Both files where extracted from online sources, the Rosenberg test results are form [openpsychometrics](https://openpsychometrics.org/), an open source database.\n",
    "The report on cultural dimensions was extracted manually from [Hofstedes](https://www.hofstede-insights.com/) webpage. \n",
    "Both where in form of a .csv and where edited directly usign python, python librares and sql."
   ]
  },
  {
   "cell_type": "markdown",
   "metadata": {},
   "source": [
    "##### Limitations of dataset"
   ]
  },
  {
   "cell_type": "markdown",
   "metadata": {},
   "source": [
    "The main limitation of the sample is in the participant pool. Given that the source of data are results form an online test, whcih requires internet and spare time, it is likely is that the participant  who took the personality test may  consist  of  individuals  who  have  average or above-average  socioeconomic  status,  given  that  all  participants  had access to the Internet and either (a) spoke English, or (b) were able to translate  the  website  into  their  native  language.\n",
    "\n",
    "The second limitation is the fact that it is a self evaluation of each individual, meaning that some answers may be false or inaccurate. \n",
    "\n",
    "\n",
    "On the other hand, looking at the Hostede report, we have to note that the report looks to analyse a whole countries culutre based off a series of questions, we do not have the answers to given questions, only the conlusions the institution made out of the initial datase. We have to trust the legitimacy and skill of the methods used by Hofstede to state that our analysis is valid. "
   ]
  },
  {
   "cell_type": "markdown",
   "metadata": {},
   "source": [
    "### Data wrangling and DB strucutre"
   ]
  },
  {
   "cell_type": "markdown",
   "metadata": {},
   "source": [
    "The data extracted was allready in pretty good shape. All data was in form of easily downloadable files and could easily but uploaded into the jupyter notebook for further work. "
   ]
  },
  {
   "cell_type": "markdown",
   "metadata": {},
   "source": [
    "##### The Rosenberg report"
   ]
  },
  {
   "cell_type": "markdown",
   "metadata": {},
   "source": [
    "As stated above, the dataset was quite clean. \n",
    "Following steps where taken to adapt the data to the project's needs:\n",
    " 1. Addition of all valoration of questions (1 to 4 scale)\n",
    " 2. Removing individual question valorations and leaving only the sum\n",
    "     - Only the sum will be used for the final analysis \n",
    " 3. Changing the gender to M/F/O for better understandign of data\n",
    " 4. Removing any scores under 10 (if score < 10, it means some of the questions where not answered, as only a few rows where affected, they where removed (I did not remove the 0 values in age as long as the aswers wehre valid as age is not a varianle that will be key in my analysis)\n",
    " 6. To ensure the validity of the smaple size, for countries which  had less than 18 answers (the median value), all answers where removed. \n",
    "    - The median value was used as the data was strongly skewed (50% of responses came from the US) and therefore the median is not representative\n",
    " 5. Change the name of the country by the Country_id"
   ]
  },
  {
   "cell_type": "markdown",
   "metadata": {},
   "source": [
    "##### Hofstede report"
   ]
  },
  {
   "cell_type": "markdown",
   "metadata": {},
   "source": [
    "Here too, the data was very clean, apart from some NaNs, where I dropped the whole rows (as NaNs tended to be consistent for a row in all variables), and some column renaming, not much was done. \n",
    "The country name was changed to country_id, and collective gruppations fo countries into regions (Yugoslavia, East Africa, West Africa, Arabic Countries) where removed as they do not appear in the country list. "
   ]
  },
  {
   "cell_type": "markdown",
   "metadata": {},
   "source": [
    "##### The DataBase"
   ]
  },
  {
   "cell_type": "markdown",
   "metadata": {},
   "source": [
    "All cleaned tables where then uploaded onto the google cloud SQL server.\n",
    "The layout of the Database goes as follows:\n",
    "![DB Layout plan](./01-DB_structure_diagramm.PNG)\n",
    "As all tables have country as a variable, **Country was used as an foreign key** to work with the tables. This required some additional work as the nomination on nationas differed form study to study. Finally I decided on using the [ISO 3166 naming skeme](https://en.wikipedia.org/wiki/List_of_ISO_3166_country_codes), which was also the skeme used for the Rosenberg survey. The ISO naming table could also be downloaded as a .csv, making life much easier.\n",
    "\n",
    "From there, I made a dictionary and simply replaced the country names with the index of the ISO skeme DataFrame. "
   ]
  },
  {
   "cell_type": "markdown",
   "metadata": {},
   "source": [
    "## The analysis"
   ]
  },
  {
   "cell_type": "code",
   "execution_count": null,
   "metadata": {},
   "outputs": [],
   "source": []
  },
  {
   "cell_type": "code",
   "execution_count": null,
   "metadata": {},
   "outputs": [],
   "source": []
  },
  {
   "cell_type": "code",
   "execution_count": null,
   "metadata": {},
   "outputs": [],
   "source": []
  },
  {
   "cell_type": "code",
   "execution_count": null,
   "metadata": {},
   "outputs": [],
   "source": []
  },
  {
   "cell_type": "code",
   "execution_count": null,
   "metadata": {},
   "outputs": [],
   "source": []
  }
 ],
 "metadata": {
  "kernelspec": {
   "display_name": "Python 3",
   "language": "python",
   "name": "python3"
  },
  "language_info": {
   "codemirror_mode": {
    "name": "ipython",
    "version": 3
   },
   "file_extension": ".py",
   "mimetype": "text/x-python",
   "name": "python",
   "nbconvert_exporter": "python",
   "pygments_lexer": "ipython3",
   "version": "3.7.3"
  }
 },
 "nbformat": 4,
 "nbformat_minor": 2
}
