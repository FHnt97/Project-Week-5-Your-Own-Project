{
 "cells": [
  {
   "cell_type": "markdown",
   "metadata": {},
   "source": [
    "# How does the self-esteem of people in a country change in realtion to cultural attributes such as power distance or collectivist mindsets?"
   ]
  },
  {
   "cell_type": "markdown",
   "metadata": {},
   "source": [
    "<h2 align=\"center\"> A brief introduction </h2>"
   ]
  },
  {
   "cell_type": "markdown",
   "metadata": {},
   "source": [
    "The goal of the project is to carry out an end-to-end analysis of a dataset with the focus on statistical analysis and on the visualisation and presentation of results.  \n",
    "\n",
    "This project will analyse relationships between the self-esteem of a sample of people of a country (extrapolated form the sample offered in the dataset) and the dimensions of national culture power distance and individualism through statistical test and methods.\n",
    "\n",
    "---\n",
    "_Finding such relationships can be interesting for managers and team leaders to better understand culutral diversity in their teams and, through this, accomodate different prespectives into the values and organisational culture of a team._\n",
    "\n",
    "---\n",
    "The main hypothesis was based on the data retrieved from a questionnaire for the self-evaluation of an individual’s self-esteem, developed by Rosenberg in the 60s. The dataset used collected 47,974 answers in total and includes not only the overall score for each participant, but the age and nationality of each.\n",
    "\n",
    "As a secondary dataset, Hofstede’s cultural compass report was used. This report analyses 6 dimensions of national culture of different countries; power distance, individualism, masculinity, uncertainty avoidance, long-term orientation and indulgence. From here, I selected power distance and individualism as the most relevant dimensions for this project. \n",
    "\n",
    "\n",
    ">Both files where extracted from online sources, the Rosenberg test results are form [openpsychometrics](https://openpsychometrics.org/), an open source database.\n",
    "The report on cultural dimensions was extracted manually from [Hofstedes](https://www.hofstede-insights.com/) webpage. \n",
    "Both where in form of a .csv and where edited directly usign python, python librares and sql."
   ]
  },
  {
   "cell_type": "markdown",
   "metadata": {},
   "source": [
    "##### Limitations of dataset"
   ]
  },
  {
   "cell_type": "markdown",
   "metadata": {},
   "source": [
    "---\n",
    "The main limitation of the sample is in the participant pool. Given that the source of data are results form an online test, whcih requires internet and spare time, it is likely is that the participant  who took the personality test may  consist  of  individuals  who  have  average or above-average  socioeconomic  status,  given  that  all  participants  had access to the Internet and either (a) spoke English, or (b) were able to translate  the  website  into  their  native  language.\n",
    "\n",
    "The second limitation is the fact that it is a self evaluation of each individual, meaning that some answers may be false or inaccurate.\n",
    "\n",
    "Lastly, as our data set is relatively big, and the answers are so personal, I realised that for every groupation, the variance above and under the mean score was pretty much symmetrical. This probably lead to my small change in standard deviation when grouping values and taking their mean. The variance for an individual random variable most likely canceled out, giving me a less significant mean.<br>\n",
    ">*To be able to counter this effect, a two tailed ANOVA or anaysis of variance test could have been carried out for each random variable to take the large variation into account. This however, presented a much better understanding of programming and statistics, that at the moment of the projects I did not have, nor was there time to fully learn all the concepts of this topic. I therefore limited myself to using the normal sample mean, adding the study of ANOVA tests in python to my list of things to learn for future projects.*\n",
    "\n",
    "---\n",
    "On the other hand, looking at the Hostede report, we have to note that the report looks to analyse a whole countries culutre based off a series of questions, we do not have the answers to given questions, only the conlusions the institution made out of the initial datase. We have to trust the legitimacy and skill of the methods used by Hofstede to state that our analysis is valid. "
   ]
  },
  {
   "cell_type": "markdown",
   "metadata": {},
   "source": [
    "<h2 align=\"center\"> Data wrangling and DB strucutre</h2>"
   ]
  },
  {
   "cell_type": "markdown",
   "metadata": {},
   "source": [
    "The data extracted was allready in pretty good shape. All data was in form of easily downloadable files and could easily but uploaded into the jupyter notebook for further work. "
   ]
  },
  {
   "cell_type": "markdown",
   "metadata": {},
   "source": [
    "##### The Rosenberg report"
   ]
  },
  {
   "cell_type": "markdown",
   "metadata": {},
   "source": [
    "As stated above, the dataset was quite clean. \n",
    "Following steps where taken to adapt the data to the project's needs:\n",
    " 1. Addition of all valoration of questions (1 to 4 scale) - to get a scale from 10 to 40\n",
    " 2. Removing individual question valorations and leaving only the sum\n",
    "     - Only the sum will be used for the final analysis \n",
    " 3. Changing the gender to M/F/O for better understandign of data\n",
    " 4. Removing any scores under 10 (if score < 10, it means some of the questions where not answered, as only a few rows where affected, they where removed.\n",
    " 5. All individuals who where not between the ages of 10 to 85 where also removed. \n",
    " 6. To ensure the validity of the sample size, for countries which  had less than 18 answers (the median value), all answers where removed. \n",
    "    - The median value was used as the data was strongly skewed (50% of responses came from the US) and therefore the median is not representative\n",
    " 5. Change the name of the country by the Country_id to have a common foreign key in the DB"
   ]
  },
  {
   "cell_type": "markdown",
   "metadata": {},
   "source": [
    "##### Hofstede report"
   ]
  },
  {
   "cell_type": "markdown",
   "metadata": {},
   "source": [
    "Here too, the data was very clean, apart from some NaNs, where I dropped the whole rows (as NaNs tended to be consistent for a row in all variables), and some column renaming, not much was done. \n",
    "The country name was changed to country_id, and collective gruppations fo countries into regions (Yugoslavia, East Africa, West Africa, Arabic Countries) where removed as they do not appear in the country list. "
   ]
  },
  {
   "cell_type": "markdown",
   "metadata": {},
   "source": [
    "### The DataBase"
   ]
  },
  {
   "cell_type": "markdown",
   "metadata": {},
   "source": [
    "All cleaned tables where then uploaded onto the google cloud SQL server.\n",
    "The layout of the Database goes as follows:\n",
    "![DB Layout plan](./01-DB_structure_diagramm.PNG)\n",
    "As all tables have country as a variable, **Country was used as an foreign key** to work with the tables. This required some additional work as the nomination on nationas differed form study to study. Finally I decided on using the [ISO 3166 naming skeme](https://en.wikipedia.org/wiki/List_of_ISO_3166_country_codes), which was also the skeme used for the Rosenberg survey. The ISO naming table could also be downloaded as a .csv, making life much easier.\n",
    "\n",
    "From there, I made a dictionary and simply replaced the country names with the index of the ISO skeme DataFrame. \n"
   ]
  },
  {
   "cell_type": "markdown",
   "metadata": {},
   "source": [
    "---\n",
    ">##### To access the databse see the details below:\n",
    "Note that this database has an IP restriction, and can therefore only be viewed in the IRONHACK campus. If the DB needs to be accessed from a differnt IP adress, please contact me. \n",
    "\n",
    ">**Connection information:** <br>\n",
    ">**user name**: ironhack <br>\n",
    ">**passowrd**: Ironhack1 <br>\n",
    ">**host name**: 35.240.116.117 <br>\n",
    "---"
   ]
  },
  {
   "cell_type": "markdown",
   "metadata": {},
   "source": [
    "<h2 align=\"center\"> The analysis</h2> "
   ]
  },
  {
   "cell_type": "markdown",
   "metadata": {},
   "source": [
    "#### Initial hypothesis"
   ]
  },
  {
   "cell_type": "code",
   "execution_count": null,
   "metadata": {},
   "outputs": [],
   "source": [
    "grouping individuals by country (avg score) - is there a relation to individualism\n",
    "grouping individuals by country (avg score) - is there a relation to power distance"
   ]
  },
  {
   "cell_type": "markdown",
   "metadata": {},
   "source": [
    "H0: there is no significant difference in self esteem between countries with high and lowe individualism\n",
    "\n",
    "H1: there is a significant difference\n"
   ]
  },
  {
   "cell_type": "code",
   "execution_count": null,
   "metadata": {},
   "outputs": [],
   "source": []
  },
  {
   "cell_type": "markdown",
   "metadata": {},
   "source": [
    "<h2 align=\"center\"> Insights</h2> "
   ]
  },
  {
   "cell_type": "code",
   "execution_count": null,
   "metadata": {},
   "outputs": [],
   "source": []
  },
  {
   "cell_type": "code",
   "execution_count": null,
   "metadata": {},
   "outputs": [],
   "source": []
  },
  {
   "cell_type": "code",
   "execution_count": null,
   "metadata": {},
   "outputs": [],
   "source": []
  },
  {
   "cell_type": "markdown",
   "metadata": {},
   "source": [
    "<h2 align=\"center\"> Conclusion</h2> "
   ]
  },
  {
   "cell_type": "code",
   "execution_count": null,
   "metadata": {},
   "outputs": [],
   "source": []
  }
 ],
 "metadata": {
  "kernelspec": {
   "display_name": "Python 3",
   "language": "python",
   "name": "python3"
  },
  "language_info": {
   "codemirror_mode": {
    "name": "ipython",
    "version": 3
   },
   "file_extension": ".py",
   "mimetype": "text/x-python",
   "name": "python",
   "nbconvert_exporter": "python",
   "pygments_lexer": "ipython3",
   "version": "3.7.3"
  }
 },
 "nbformat": 4,
 "nbformat_minor": 2
}
